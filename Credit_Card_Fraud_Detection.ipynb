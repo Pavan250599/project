{
 "cells": [
  {
   "cell_type": "code",
   "execution_count": 1,
   "metadata": {
    "colab": {
     "base_uri": "https://localhost:8080/",
     "height": 71
    },
    "colab_type": "code",
    "id": "y31yoa7bqL33",
    "outputId": "79327f55-cd97-4a2f-bf8c-e476fc1aeeda"
   },
   "outputs": [],
   "source": [
    "#Importing necessary libraries\n",
    "\n",
    "import numpy as np\n",
    "import pandas as pd\n",
    "import matplotlib.pyplot as plt\n",
    "import seaborn as sns\n",
    "\n",
    "from sklearn.compose import make_column_selector as selector\n",
    "from sklearn.preprocessing import OneHotEncoder\n",
    "from sklearn.compose import ColumnTransformer\n",
    "from sklearn.model_selection import train_test_split"
   ]
  },
  {
   "cell_type": "code",
   "execution_count": 2,
   "metadata": {
    "colab": {},
    "colab_type": "code",
    "id": "7ffqHaZx1Xkw"
   },
   "outputs": [],
   "source": [
    "#Loading the dataset\n",
    "train = pd.read_csv('creditcard.csv', on_bad_lines='skip')"
   ]
  },
  {
   "cell_type": "code",
   "execution_count": 3,
   "metadata": {
    "colab": {
     "base_uri": "https://localhost:8080/",
     "height": 34
    },
    "colab_type": "code",
    "id": "UpkDc61N1cvP",
    "outputId": "935edca6-b674-4d64-b8e0-689dd33b968a"
   },
   "outputs": [
    {
     "data": {
      "text/plain": [
       "(284807, 31)"
      ]
     },
     "execution_count": 3,
     "metadata": {},
     "output_type": "execute_result"
    }
   ],
   "source": [
    "#Checking the shape of the Dataset\n",
    "train.shape"
   ]
  },
  {
   "cell_type": "code",
   "execution_count": 4,
   "metadata": {
    "colab": {
     "base_uri": "https://localhost:8080/",
     "height": 561
    },
    "colab_type": "code",
    "id": "H9badv-t1fT9",
    "outputId": "6fcc47f4-9a8c-4ae2-ad96-9b18c20781e2"
   },
   "outputs": [
    {
     "data": {
      "text/html": [
       "<div>\n",
       "<style scoped>\n",
       "    .dataframe tbody tr th:only-of-type {\n",
       "        vertical-align: middle;\n",
       "    }\n",
       "\n",
       "    .dataframe tbody tr th {\n",
       "        vertical-align: top;\n",
       "    }\n",
       "\n",
       "    .dataframe thead th {\n",
       "        text-align: right;\n",
       "    }\n",
       "</style>\n",
       "<table border=\"1\" class=\"dataframe\">\n",
       "  <thead>\n",
       "    <tr style=\"text-align: right;\">\n",
       "      <th></th>\n",
       "      <th>Time</th>\n",
       "      <th>V1</th>\n",
       "      <th>V2</th>\n",
       "      <th>V3</th>\n",
       "      <th>V4</th>\n",
       "      <th>V5</th>\n",
       "      <th>V6</th>\n",
       "      <th>V7</th>\n",
       "      <th>V8</th>\n",
       "      <th>V9</th>\n",
       "      <th>...</th>\n",
       "      <th>V21</th>\n",
       "      <th>V22</th>\n",
       "      <th>V23</th>\n",
       "      <th>V24</th>\n",
       "      <th>V25</th>\n",
       "      <th>V26</th>\n",
       "      <th>V27</th>\n",
       "      <th>V28</th>\n",
       "      <th>Amount</th>\n",
       "      <th>Class</th>\n",
       "    </tr>\n",
       "  </thead>\n",
       "  <tbody>\n",
       "    <tr>\n",
       "      <th>0</th>\n",
       "      <td>0.0</td>\n",
       "      <td>-1.359807</td>\n",
       "      <td>-0.072781</td>\n",
       "      <td>2.536347</td>\n",
       "      <td>1.378155</td>\n",
       "      <td>-0.338321</td>\n",
       "      <td>0.462388</td>\n",
       "      <td>0.239599</td>\n",
       "      <td>0.098698</td>\n",
       "      <td>0.363787</td>\n",
       "      <td>...</td>\n",
       "      <td>-0.018307</td>\n",
       "      <td>0.277838</td>\n",
       "      <td>-0.110474</td>\n",
       "      <td>0.066928</td>\n",
       "      <td>0.128539</td>\n",
       "      <td>-0.189115</td>\n",
       "      <td>0.133558</td>\n",
       "      <td>-0.021053</td>\n",
       "      <td>149.62</td>\n",
       "      <td>0</td>\n",
       "    </tr>\n",
       "    <tr>\n",
       "      <th>1</th>\n",
       "      <td>0.0</td>\n",
       "      <td>1.191857</td>\n",
       "      <td>0.266151</td>\n",
       "      <td>0.166480</td>\n",
       "      <td>0.448154</td>\n",
       "      <td>0.060018</td>\n",
       "      <td>-0.082361</td>\n",
       "      <td>-0.078803</td>\n",
       "      <td>0.085102</td>\n",
       "      <td>-0.255425</td>\n",
       "      <td>...</td>\n",
       "      <td>-0.225775</td>\n",
       "      <td>-0.638672</td>\n",
       "      <td>0.101288</td>\n",
       "      <td>-0.339846</td>\n",
       "      <td>0.167170</td>\n",
       "      <td>0.125895</td>\n",
       "      <td>-0.008983</td>\n",
       "      <td>0.014724</td>\n",
       "      <td>2.69</td>\n",
       "      <td>0</td>\n",
       "    </tr>\n",
       "    <tr>\n",
       "      <th>2</th>\n",
       "      <td>1.0</td>\n",
       "      <td>-1.358354</td>\n",
       "      <td>-1.340163</td>\n",
       "      <td>1.773209</td>\n",
       "      <td>0.379780</td>\n",
       "      <td>-0.503198</td>\n",
       "      <td>1.800499</td>\n",
       "      <td>0.791461</td>\n",
       "      <td>0.247676</td>\n",
       "      <td>-1.514654</td>\n",
       "      <td>...</td>\n",
       "      <td>0.247998</td>\n",
       "      <td>0.771679</td>\n",
       "      <td>0.909412</td>\n",
       "      <td>-0.689281</td>\n",
       "      <td>-0.327642</td>\n",
       "      <td>-0.139097</td>\n",
       "      <td>-0.055353</td>\n",
       "      <td>-0.059752</td>\n",
       "      <td>378.66</td>\n",
       "      <td>0</td>\n",
       "    </tr>\n",
       "    <tr>\n",
       "      <th>3</th>\n",
       "      <td>1.0</td>\n",
       "      <td>-0.966272</td>\n",
       "      <td>-0.185226</td>\n",
       "      <td>1.792993</td>\n",
       "      <td>-0.863291</td>\n",
       "      <td>-0.010309</td>\n",
       "      <td>1.247203</td>\n",
       "      <td>0.237609</td>\n",
       "      <td>0.377436</td>\n",
       "      <td>-1.387024</td>\n",
       "      <td>...</td>\n",
       "      <td>-0.108300</td>\n",
       "      <td>0.005274</td>\n",
       "      <td>-0.190321</td>\n",
       "      <td>-1.175575</td>\n",
       "      <td>0.647376</td>\n",
       "      <td>-0.221929</td>\n",
       "      <td>0.062723</td>\n",
       "      <td>0.061458</td>\n",
       "      <td>123.50</td>\n",
       "      <td>0</td>\n",
       "    </tr>\n",
       "    <tr>\n",
       "      <th>4</th>\n",
       "      <td>2.0</td>\n",
       "      <td>-1.158233</td>\n",
       "      <td>0.877737</td>\n",
       "      <td>1.548718</td>\n",
       "      <td>0.403034</td>\n",
       "      <td>-0.407193</td>\n",
       "      <td>0.095921</td>\n",
       "      <td>0.592941</td>\n",
       "      <td>-0.270533</td>\n",
       "      <td>0.817739</td>\n",
       "      <td>...</td>\n",
       "      <td>-0.009431</td>\n",
       "      <td>0.798278</td>\n",
       "      <td>-0.137458</td>\n",
       "      <td>0.141267</td>\n",
       "      <td>-0.206010</td>\n",
       "      <td>0.502292</td>\n",
       "      <td>0.219422</td>\n",
       "      <td>0.215153</td>\n",
       "      <td>69.99</td>\n",
       "      <td>0</td>\n",
       "    </tr>\n",
       "  </tbody>\n",
       "</table>\n",
       "<p>5 rows × 31 columns</p>\n",
       "</div>"
      ],
      "text/plain": [
       "   Time        V1        V2        V3        V4        V5        V6        V7  \\\n",
       "0   0.0 -1.359807 -0.072781  2.536347  1.378155 -0.338321  0.462388  0.239599   \n",
       "1   0.0  1.191857  0.266151  0.166480  0.448154  0.060018 -0.082361 -0.078803   \n",
       "2   1.0 -1.358354 -1.340163  1.773209  0.379780 -0.503198  1.800499  0.791461   \n",
       "3   1.0 -0.966272 -0.185226  1.792993 -0.863291 -0.010309  1.247203  0.237609   \n",
       "4   2.0 -1.158233  0.877737  1.548718  0.403034 -0.407193  0.095921  0.592941   \n",
       "\n",
       "         V8        V9  ...       V21       V22       V23       V24       V25  \\\n",
       "0  0.098698  0.363787  ... -0.018307  0.277838 -0.110474  0.066928  0.128539   \n",
       "1  0.085102 -0.255425  ... -0.225775 -0.638672  0.101288 -0.339846  0.167170   \n",
       "2  0.247676 -1.514654  ...  0.247998  0.771679  0.909412 -0.689281 -0.327642   \n",
       "3  0.377436 -1.387024  ... -0.108300  0.005274 -0.190321 -1.175575  0.647376   \n",
       "4 -0.270533  0.817739  ... -0.009431  0.798278 -0.137458  0.141267 -0.206010   \n",
       "\n",
       "        V26       V27       V28  Amount  Class  \n",
       "0 -0.189115  0.133558 -0.021053  149.62      0  \n",
       "1  0.125895 -0.008983  0.014724    2.69      0  \n",
       "2 -0.139097 -0.055353 -0.059752  378.66      0  \n",
       "3 -0.221929  0.062723  0.061458  123.50      0  \n",
       "4  0.502292  0.219422  0.215153   69.99      0  \n",
       "\n",
       "[5 rows x 31 columns]"
      ]
     },
     "execution_count": 4,
     "metadata": {},
     "output_type": "execute_result"
    }
   ],
   "source": [
    "#Have a look at the data, head function of Pandas will show first n rows of dataset\n",
    "train.head()"
   ]
  },
  {
   "cell_type": "code",
   "execution_count": 5,
   "metadata": {},
   "outputs": [
    {
     "data": {
      "text/plain": [
       "Time      float64\n",
       "V1        float64\n",
       "V2        float64\n",
       "V3        float64\n",
       "V4        float64\n",
       "V5        float64\n",
       "V6        float64\n",
       "V7        float64\n",
       "V8        float64\n",
       "V9        float64\n",
       "V10       float64\n",
       "V11       float64\n",
       "V12       float64\n",
       "V13       float64\n",
       "V14       float64\n",
       "V15       float64\n",
       "V16       float64\n",
       "V17       float64\n",
       "V18       float64\n",
       "V19       float64\n",
       "V20       float64\n",
       "V21       float64\n",
       "V22       float64\n",
       "V23       float64\n",
       "V24       float64\n",
       "V25       float64\n",
       "V26       float64\n",
       "V27       float64\n",
       "V28       float64\n",
       "Amount    float64\n",
       "Class       int64\n",
       "dtype: object"
      ]
     },
     "execution_count": 5,
     "metadata": {},
     "output_type": "execute_result"
    }
   ],
   "source": [
    "#dtype function of Pandas gives us the datatypes of the columns\n",
    "train.dtypes\n",
    "\n",
    "#There are no object datatypes colums in train dataset"
   ]
  },
  {
   "cell_type": "code",
   "execution_count": 6,
   "metadata": {},
   "outputs": [
    {
     "name": "stdout",
     "output_type": "stream",
     "text": [
      "Duplicated Rows : \n",
      "            Time        V1        V2        V3        V4        V5        V6  \\\n",
      "33          26.0 -0.529912  0.873892  1.347247  0.145457  0.414209  0.100223   \n",
      "35          26.0 -0.535388  0.865268  1.351076  0.147575  0.433680  0.086983   \n",
      "113         74.0  1.038370  0.127486  0.184456  1.109950  0.441699  0.945283   \n",
      "114         74.0  1.038370  0.127486  0.184456  1.109950  0.441699  0.945283   \n",
      "115         74.0  1.038370  0.127486  0.184456  1.109950  0.441699  0.945283   \n",
      "...          ...       ...       ...       ...       ...       ...       ...   \n",
      "282987  171288.0  1.912550 -0.455240 -1.750654  0.454324  2.089130  4.160019   \n",
      "283483  171627.0 -1.464380  1.368119  0.815992 -0.601282 -0.689115 -0.487154   \n",
      "283485  171627.0 -1.457978  1.378203  0.811515 -0.603760 -0.711883 -0.471672   \n",
      "284191  172233.0 -2.667936  3.160505 -3.355984  1.007845 -0.377397 -0.109730   \n",
      "284193  172233.0 -2.691642  3.123168 -3.339407  1.017018 -0.293095 -0.167054   \n",
      "\n",
      "              V7        V8        V9  ...       V21       V22       V23  \\\n",
      "33      0.711206  0.176066 -0.286717  ...  0.046949  0.208105 -0.185548   \n",
      "35      0.693039  0.179742 -0.285642  ...  0.049526  0.206537 -0.187108   \n",
      "113    -0.036715  0.350995  0.118950  ...  0.102520  0.605089  0.023092   \n",
      "114    -0.036715  0.350995  0.118950  ...  0.102520  0.605089  0.023092   \n",
      "115    -0.036715  0.350995  0.118950  ...  0.102520  0.605089  0.023092   \n",
      "...          ...       ...       ...  ...       ...       ...       ...   \n",
      "282987 -0.881302  1.081750  1.022928  ... -0.524067 -1.337510  0.473943   \n",
      "283483 -0.303778  0.884953  0.054065  ...  0.287217  0.947825 -0.218773   \n",
      "283485 -0.282535  0.880654  0.052808  ...  0.284205  0.949659 -0.216949   \n",
      "284191 -0.667233  2.309700 -1.639306  ...  0.391483  0.266536 -0.079853   \n",
      "284193 -0.745886  2.325616 -1.634651  ...  0.402639  0.259746 -0.086606   \n",
      "\n",
      "             V24       V25       V26       V27       V28  Amount  Class  \n",
      "33      0.001031  0.098816 -0.552904 -0.073288  0.023307    6.14      0  \n",
      "35      0.000753  0.098117 -0.553471 -0.078306  0.025427    1.77      0  \n",
      "113    -0.626463  0.479120 -0.166937  0.081247  0.001192    1.18      0  \n",
      "114    -0.626463  0.479120 -0.166937  0.081247  0.001192    1.18      0  \n",
      "115    -0.626463  0.479120 -0.166937  0.081247  0.001192    1.18      0  \n",
      "...          ...       ...       ...       ...       ...     ...    ...  \n",
      "282987  0.616683 -0.283548 -1.084843  0.073133 -0.036020   11.99      0  \n",
      "283483  0.082926  0.044127  0.639270  0.213565  0.119251    6.82      0  \n",
      "283485  0.083250  0.044944  0.639933  0.219432  0.116772   11.93      0  \n",
      "284191 -0.096395  0.086719 -0.451128 -1.183743 -0.222200   55.66      0  \n",
      "284193 -0.097597  0.083693 -0.453584 -1.205466 -0.213020   36.74      0  \n",
      "\n",
      "[1081 rows x 31 columns]\n"
     ]
    }
   ],
   "source": [
    "#Check out duplicate values in Dataset\n",
    "duplicate = train[train.duplicated()]\n",
    "\n",
    "print(\"Duplicated Rows : \")\n",
    "print(duplicate)\n",
    "\n",
    "#we found no duplicate rows"
   ]
  },
  {
   "cell_type": "code",
   "execution_count": 7,
   "metadata": {
    "colab": {
     "base_uri": "https://localhost:8080/",
     "height": 224
    },
    "colab_type": "code",
    "id": "hK8oKL271jg5",
    "outputId": "40da6b94-03bd-4b04-b0f0-6e7348b8b4bb"
   },
   "outputs": [
    {
     "data": {
      "text/plain": [
       "Time      0\n",
       "V1        0\n",
       "V2        0\n",
       "V3        0\n",
       "V4        0\n",
       "V5        0\n",
       "V6        0\n",
       "V7        0\n",
       "V8        0\n",
       "V9        0\n",
       "V10       0\n",
       "V11       0\n",
       "V12       0\n",
       "V13       0\n",
       "V14       0\n",
       "V15       0\n",
       "V16       0\n",
       "V17       0\n",
       "V18       0\n",
       "V19       0\n",
       "V20       0\n",
       "V21       0\n",
       "V22       0\n",
       "V23       0\n",
       "V24       0\n",
       "V25       0\n",
       "V26       0\n",
       "V27       0\n",
       "V28       0\n",
       "Amount    0\n",
       "Class     0\n",
       "dtype: int64"
      ]
     },
     "execution_count": 7,
     "metadata": {},
     "output_type": "execute_result"
    }
   ],
   "source": [
    "#Checking null values\n",
    "train.isna().sum()"
   ]
  },
  {
   "cell_type": "code",
   "execution_count": 8,
   "metadata": {},
   "outputs": [
    {
     "name": "stderr",
     "output_type": "stream",
     "text": [
      "C:\\Users\\polag\\AppData\\Local\\Temp\\ipykernel_16704\\651100532.py:4: FutureWarning: pandas.value_counts is deprecated and will be removed in a future version. Use pd.Series(obj).value_counts() instead.\n",
      "  pd.value_counts(train['Class'])\n"
     ]
    },
    {
     "data": {
      "text/plain": [
       "Class\n",
       "0    284315\n",
       "1       492\n",
       "Name: count, dtype: int64"
      ]
     },
     "execution_count": 8,
     "metadata": {},
     "output_type": "execute_result"
    }
   ],
   "source": [
    "#Exploratory Data Analysis\n",
    "\n",
    "#Checking transactions count based on class\n",
    "pd.value_counts(train['Class'])"
   ]
  },
  {
   "cell_type": "code",
   "execution_count": 9,
   "metadata": {},
   "outputs": [],
   "source": [
    "#Bar Chart\n",
    "\n",
    "#Bar graph Class vs Transactions\n",
    "#sns.countplot(train['Class'])"
   ]
  },
  {
   "cell_type": "code",
   "execution_count": 10,
   "metadata": {
    "colab": {
     "base_uri": "https://localhost:8080/",
     "height": 68
    },
    "colab_type": "code",
    "id": "PJVlCu6U1p20",
    "outputId": "846980c5-0ea5-4892-8ebb-b74132d1523e"
   },
   "outputs": [
    {
     "data": {
      "text/plain": [
       "<Axes: >"
      ]
     },
     "execution_count": 10,
     "metadata": {},
     "output_type": "execute_result"
    },
    {
     "data": {
      "image/png": "[encoded data removed]",
      "text/plain": [
       "<Figure size 2000x1000 with 1 Axes>"
      ]
     },
     "metadata": {},
     "output_type": "display_data"
    }
   ],
   "source": [
    "fig = plt.figure(figsize = (20,10))\n",
    "ax = fig.gca()\n",
    "train[train.Class==1].Time.hist(ax=ax)"
   ]
  },
  {
   "cell_type": "code",
   "execution_count": 11,
   "metadata": {
    "colab": {
     "base_uri": "https://localhost:8080/",
     "height": 296
    },
    "colab_type": "code",
    "id": "VgQ43owj1xeD",
    "outputId": "0a56667b-e252-4a8d-acf2-5b97f1213972"
   },
   "outputs": [
    {
     "name": "stdout",
     "output_type": "stream",
     "text": [
      "Transactions that have marked as fraud 492\n",
      "Transactions that have marked as fraud 284315\n"
     ]
    }
   ],
   "source": [
    "#First filter fraud transactions with Class==1\n",
    "print(\"Transactions that have marked as fraud\",train[train.Class==1].shape[0])\n",
    "\n",
    "#Filter non fraud transactions with Class==0\n",
    "print(\"Transactions that have marked as fraud\",train[train.Class==0].shape[0])"
   ]
  },
  {
   "cell_type": "code",
   "execution_count": 12,
   "metadata": {},
   "outputs": [
    {
     "data": {
      "text/plain": [
       "<Axes: >"
      ]
     },
     "execution_count": 12,
     "metadata": {},
     "output_type": "execute_result"
    },
    {
     "data": {
      "image/png": "[encoded data removed]",
      "text/plain": [
       "<Figure size 640x480 with 1 Axes>"
      ]
     },
     "metadata": {},
     "output_type": "display_data"
    }
   ],
   "source": [
    "train[train.Class==1]['Amount'].hist()"
   ]
  },
  {
   "cell_type": "code",
   "execution_count": 13,
   "metadata": {},
   "outputs": [],
   "source": [
    "#Basic feature engineering\n",
    "\n",
    "#Since there is no categorical data in train data set we can proceed with whole dataset\n",
    "\n",
    "X=train.iloc[:,:-1]\n",
    "y=train[['Class']]"
   ]
  },
  {
   "cell_type": "code",
   "execution_count": 14,
   "metadata": {},
   "outputs": [
    {
     "data": {
      "text/plain": [
       "(<bound method DataFrame.info of             Time         V1         V2        V3        V4        V5  \\\n",
       " 0            0.0  -1.359807  -0.072781  2.536347  1.378155 -0.338321   \n",
       " 1            0.0   1.191857   0.266151  0.166480  0.448154  0.060018   \n",
       " 2            1.0  -1.358354  -1.340163  1.773209  0.379780 -0.503198   \n",
       " 3            1.0  -0.966272  -0.185226  1.792993 -0.863291 -0.010309   \n",
       " 4            2.0  -1.158233   0.877737  1.548718  0.403034 -0.407193   \n",
       " ...          ...        ...        ...       ...       ...       ...   \n",
       " 284802  172786.0 -11.881118  10.071785 -9.834783 -2.066656 -5.364473   \n",
       " 284803  172787.0  -0.732789  -0.055080  2.035030 -0.738589  0.868229   \n",
       " 284804  172788.0   1.919565  -0.301254 -3.249640 -0.557828  2.630515   \n",
       " 284805  172788.0  -0.240440   0.530483  0.702510  0.689799 -0.377961   \n",
       " 284806  172792.0  -0.533413  -0.189733  0.703337 -0.506271 -0.012546   \n",
       " \n",
       "               V6        V7        V8        V9  ...       V20       V21  \\\n",
       " 0       0.462388  0.239599  0.098698  0.363787  ...  0.251412 -0.018307   \n",
       " 1      -0.082361 -0.078803  0.085102 -0.255425  ... -0.069083 -0.225775   \n",
       " 2       1.800499  0.791461  0.247676 -1.514654  ...  0.524980  0.247998   \n",
       " 3       1.247203  0.237609  0.377436 -1.387024  ... -0.208038 -0.108300   \n",
       " 4       0.095921  0.592941 -0.270533  0.817739  ...  0.408542 -0.009431   \n",
       " ...          ...       ...       ...       ...  ...       ...       ...   \n",
       " 284802 -2.606837 -4.918215  7.305334  1.914428  ...  1.475829  0.213454   \n",
       " 284803  1.058415  0.024330  0.294869  0.584800  ...  0.059616  0.214205   \n",
       " 284804  3.031260 -0.296827  0.708417  0.432454  ...  0.001396  0.232045   \n",
       " 284805  0.623708 -0.686180  0.679145  0.392087  ...  0.127434  0.265245   \n",
       " 284806 -0.649617  1.577006 -0.414650  0.486180  ...  0.382948  0.261057   \n",
       " \n",
       "              V22       V23       V24       V25       V26       V27       V28  \\\n",
       " 0       0.277838 -0.110474  0.066928  0.128539 -0.189115  0.133558 -0.021053   \n",
       " 1      -0.638672  0.101288 -0.339846  0.167170  0.125895 -0.008983  0.014724   \n",
       " 2       0.771679  0.909412 -0.689281 -0.327642 -0.139097 -0.055353 -0.059752   \n",
       " 3       0.005274 -0.190321 -1.175575  0.647376 -0.221929  0.062723  0.061458   \n",
       " 4       0.798278 -0.137458  0.141267 -0.206010  0.502292  0.219422  0.215153   \n",
       " ...          ...       ...       ...       ...       ...       ...       ...   \n",
       " 284802  0.111864  1.014480 -0.509348  1.436807  0.250034  0.943651  0.823731   \n",
       " 284803  0.924384  0.012463 -1.016226 -0.606624 -0.395255  0.068472 -0.053527   \n",
       " 284804  0.578229 -0.037501  0.640134  0.265745 -0.087371  0.004455 -0.026561   \n",
       " 284805  0.800049 -0.163298  0.123205 -0.569159  0.546668  0.108821  0.104533   \n",
       " 284806  0.643078  0.376777  0.008797 -0.473649 -0.818267 -0.002415  0.013649   \n",
       " \n",
       "         Amount  \n",
       " 0       149.62  \n",
       " 1         2.69  \n",
       " 2       378.66  \n",
       " 3       123.50  \n",
       " 4        69.99  \n",
       " ...        ...  \n",
       " 284802    0.77  \n",
       " 284803   24.79  \n",
       " 284804   67.88  \n",
       " 284805   10.00  \n",
       " 284806  217.00  \n",
       " \n",
       " [284807 rows x 30 columns]>,\n",
       " <bound method DataFrame.info of         Class\n",
       " 0           0\n",
       " 1           0\n",
       " 2           0\n",
       " 3           0\n",
       " 4           0\n",
       " ...       ...\n",
       " 284802      0\n",
       " 284803      0\n",
       " 284804      0\n",
       " 284805      0\n",
       " 284806      0\n",
       " \n",
       " [284807 rows x 1 columns]>)"
      ]
     },
     "execution_count": 14,
     "metadata": {},
     "output_type": "execute_result"
    }
   ],
   "source": [
    "X.info,y.info"
   ]
  },
  {
   "cell_type": "code",
   "execution_count": 15,
   "metadata": {},
   "outputs": [],
   "source": [
    "#convert imbalanced data to balanced data\n",
    "from imblearn.over_sampling import RandomOverSampler\n",
    "ros = RandomOverSampler(random_state=0)\n",
    "x_res , y_res = ros.fit_resample(X,y)"
   ]
  },
  {
   "cell_type": "code",
   "execution_count": 16,
   "metadata": {
    "colab": {
     "base_uri": "https://localhost:8080/",
     "height": 34
    },
    "colab_type": "code",
    "id": "6lhb-oFK2ze0",
    "outputId": "c3ec5d7b-c6f5-4ad0-ea46-109d46af3af1"
   },
   "outputs": [
    {
     "data": {
      "text/plain": [
       "284315"
      ]
     },
     "execution_count": 16,
     "metadata": {},
     "output_type": "execute_result"
    }
   ],
   "source": [
    "len(train[train['Class']==0]) #valid transaction"
   ]
  },
  {
   "cell_type": "code",
   "execution_count": 17,
   "metadata": {
    "colab": {
     "base_uri": "https://localhost:8080/",
     "height": 34
    },
    "colab_type": "code",
    "id": "-_Zdm4s126HU",
    "outputId": "aa964e7c-e9ce-4e19-d3ea-3ea4deca402c"
   },
   "outputs": [
    {
     "data": {
      "text/plain": [
       "492"
      ]
     },
     "execution_count": 17,
     "metadata": {},
     "output_type": "execute_result"
    }
   ],
   "source": [
    "len(train[train['Class']==1]) #fradulent transactions"
   ]
  },
  {
   "cell_type": "code",
   "execution_count": 18,
   "metadata": {},
   "outputs": [],
   "source": [
    "#Let's do train/test split 80-20\n",
    "#X_train,X_test,y_train,y_test=train_test_split(X,y,test_size=0.2,random_state=42)\n",
    "\n",
    "from sklearn.model_selection import train_test_split\n",
    "X_train , X_test , y_train , y_test = train_test_split(x_res , y_res , test_size=0.3 , random_state=42)"
   ]
  },
  {
   "cell_type": "code",
   "execution_count": 19,
   "metadata": {
    "colab": {},
    "colab_type": "code",
    "id": "INzvLv9E3EnJ"
   },
   "outputs": [
    {
     "data": {
      "text/plain": [
       "((398041, 30), (170589, 30))"
      ]
     },
     "execution_count": 19,
     "metadata": {},
     "output_type": "execute_result"
    }
   ],
   "source": [
    "#Shape of both Train and test datasets X\n",
    "X_train.shape,X_test.shape"
   ]
  },
  {
   "cell_type": "code",
   "execution_count": 20,
   "metadata": {},
   "outputs": [
    {
     "data": {
      "text/plain": [
       "((398041, 1), (170589, 1))"
      ]
     },
     "execution_count": 20,
     "metadata": {},
     "output_type": "execute_result"
    }
   ],
   "source": [
    "#Shape of both Train and test datasets y\n",
    "y_train.shape,y_test.shape"
   ]
  },
  {
   "cell_type": "code",
   "execution_count": 21,
   "metadata": {},
   "outputs": [],
   "source": [
    "#Random Forest\n",
    "\n",
    "#import randomforestclassifier from scikit learn, since we are silving a classification problem\n",
    "from sklearn.ensemble import RandomForestClassifier\n",
    "#Classification report gives us the results of our model\n",
    "from sklearn.metrics import classification_report"
   ]
  },
  {
   "cell_type": "code",
   "execution_count": 22,
   "metadata": {},
   "outputs": [],
   "source": [
    "#classifier=RandomForestClassifier(n_estimators = 641 , random_state=0)\n",
    "\n",
    "classifier = RandomForestClassifier(n_estimators=100, max_depth=10, random_state=0, n_jobs=-1)\n",
    "#classifier.fit(X_train , y_train)\n",
    "classifier.fit(X_train, y_train.values.ravel())\n",
    "pred=classifier.predict(X_test)\n",
    "\n",
    "#print(classification_report(y_test.values,pred))"
   ]
  },
  {
   "cell_type": "code",
   "execution_count": 23,
   "metadata": {},
   "outputs": [
    {
     "data": {
      "text/plain": [
       "0.9994786915157045"
      ]
     },
     "execution_count": 23,
     "metadata": {},
     "output_type": "execute_result"
    }
   ],
   "source": [
    "from sklearn.metrics import precision_score\n",
    "precision_score(y_test,pred)"
   ]
  },
  {
   "cell_type": "code",
   "execution_count": 24,
   "metadata": {},
   "outputs": [
    {
     "name": "stdout",
     "output_type": "stream",
     "text": [
      "              precision    recall  f1-score   support\n",
      "\n",
      "           0       0.99      1.00      0.99     85149\n",
      "           1       1.00      0.99      0.99     85440\n",
      "\n",
      "    accuracy                           0.99    170589\n",
      "   macro avg       0.99      0.99      0.99    170589\n",
      "weighted avg       0.99      0.99      0.99    170589\n",
      "\n"
     ]
    }
   ],
   "source": [
    "from sklearn.metrics import classification_report\n",
    "print(classification_report(y_test,pred))"
   ]
  },
  {
   "cell_type": "code",
   "execution_count": 25,
   "metadata": {
    "colab": {},
    "colab_type": "code",
    "id": "tcAsCoS__xAv"
   },
   "outputs": [],
   "source": [
    "#Thank you!!"
   ]
  },
  {
   "cell_type": "code",
   "execution_count": 26,
   "metadata": {},
   "outputs": [],
   "source": [
    "#from sklearn.metrics import precision_score\n",
    "#precision_score(y_test , pred)"
   ]
  },
  {
   "cell_type": "code",
   "execution_count": null,
   "metadata": {},
   "outputs": [],
   "source": []
  },
  {
   "cell_type": "code",
   "execution_count": null,
   "metadata": {},
   "outputs": [],
   "source": []
  }
 ],
 "metadata": {
  "colab": {
   "collapsed_sections": [],
   "name": "Credit Card Fraud Detection.ipynb",
   "provenance": []
  },
  "kernelspec": {
   "display_name": "Python 3 (ipykernel)",
   "language": "python",
   "name": "python3"
  },
  "language_info": {
   "codemirror_mode": {
    "name": "ipython",
    "version": 3
   },
   "file_extension": ".py",
   "mimetype": "text/x-python",
   "name": "python",
   "nbconvert_exporter": "python",
   "pygments_lexer": "ipython3",
   "version": "3.12.4"
  }
 },
 "nbformat": 4,
 "nbformat_minor": 4
}
